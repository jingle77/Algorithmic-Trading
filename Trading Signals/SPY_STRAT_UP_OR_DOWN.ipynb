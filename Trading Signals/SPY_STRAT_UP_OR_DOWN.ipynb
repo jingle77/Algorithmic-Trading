{
  "nbformat": 4,
  "nbformat_minor": 0,
  "metadata": {
    "colab": {
      "provenance": [],
      "collapsed_sections": [
        "yqnvgNG-j6hN",
        "jdflfDjVqKVY",
        "nZvvB18kZ5s0",
        "xV5MC-GhFnqD",
        "m3oXlWdCrPVO",
        "iXMLgVP6t2lP",
        "nLQMaz0xHJuP"
      ]
    },
    "kernelspec": {
      "name": "python3",
      "display_name": "Python 3"
    },
    "language_info": {
      "name": "python"
    }
  },
  "cells": [
    {
      "cell_type": "markdown",
      "source": [
        "## Install Yfinance"
      ],
      "metadata": {
        "id": "yqnvgNG-j6hN"
      }
    },
    {
      "cell_type": "code",
      "source": [
        "pip install yfinance"
      ],
      "metadata": {
        "colab": {
          "base_uri": "https://localhost:8080/"
        },
        "id": "bnlFA-cZUB_e",
        "outputId": "401907e0-2d34-4112-c43c-a15dced89581"
      },
      "execution_count": null,
      "outputs": [
        {
          "output_type": "stream",
          "name": "stdout",
          "text": [
            "Requirement already satisfied: yfinance in /usr/local/lib/python3.10/dist-packages (0.2.31)\n",
            "Requirement already satisfied: pandas>=1.3.0 in /usr/local/lib/python3.10/dist-packages (from yfinance) (1.5.3)\n",
            "Requirement already satisfied: numpy>=1.16.5 in /usr/local/lib/python3.10/dist-packages (from yfinance) (1.23.5)\n",
            "Requirement already satisfied: requests>=2.31 in /usr/local/lib/python3.10/dist-packages (from yfinance) (2.31.0)\n",
            "Requirement already satisfied: multitasking>=0.0.7 in /usr/local/lib/python3.10/dist-packages (from yfinance) (0.0.11)\n",
            "Requirement already satisfied: lxml>=4.9.1 in /usr/local/lib/python3.10/dist-packages (from yfinance) (4.9.3)\n",
            "Requirement already satisfied: appdirs>=1.4.4 in /usr/local/lib/python3.10/dist-packages (from yfinance) (1.4.4)\n",
            "Requirement already satisfied: pytz>=2022.5 in /usr/local/lib/python3.10/dist-packages (from yfinance) (2023.3.post1)\n",
            "Requirement already satisfied: frozendict>=2.3.4 in /usr/local/lib/python3.10/dist-packages (from yfinance) (2.3.8)\n",
            "Requirement already satisfied: peewee>=3.16.2 in /usr/local/lib/python3.10/dist-packages (from yfinance) (3.17.0)\n",
            "Requirement already satisfied: beautifulsoup4>=4.11.1 in /usr/local/lib/python3.10/dist-packages (from yfinance) (4.11.2)\n",
            "Requirement already satisfied: html5lib>=1.1 in /usr/local/lib/python3.10/dist-packages (from yfinance) (1.1)\n",
            "Requirement already satisfied: soupsieve>1.2 in /usr/local/lib/python3.10/dist-packages (from beautifulsoup4>=4.11.1->yfinance) (2.5)\n",
            "Requirement already satisfied: six>=1.9 in /usr/local/lib/python3.10/dist-packages (from html5lib>=1.1->yfinance) (1.16.0)\n",
            "Requirement already satisfied: webencodings in /usr/local/lib/python3.10/dist-packages (from html5lib>=1.1->yfinance) (0.5.1)\n",
            "Requirement already satisfied: python-dateutil>=2.8.1 in /usr/local/lib/python3.10/dist-packages (from pandas>=1.3.0->yfinance) (2.8.2)\n",
            "Requirement already satisfied: charset-normalizer<4,>=2 in /usr/local/lib/python3.10/dist-packages (from requests>=2.31->yfinance) (3.3.2)\n",
            "Requirement already satisfied: idna<4,>=2.5 in /usr/local/lib/python3.10/dist-packages (from requests>=2.31->yfinance) (3.4)\n",
            "Requirement already satisfied: urllib3<3,>=1.21.1 in /usr/local/lib/python3.10/dist-packages (from requests>=2.31->yfinance) (2.0.7)\n",
            "Requirement already satisfied: certifi>=2017.4.17 in /usr/local/lib/python3.10/dist-packages (from requests>=2.31->yfinance) (2023.7.22)\n"
          ]
        }
      ]
    },
    {
      "cell_type": "markdown",
      "source": [
        "## Libraries"
      ],
      "metadata": {
        "id": "jdflfDjVqKVY"
      }
    },
    {
      "cell_type": "code",
      "source": [
        "## Data\n",
        "import yfinance as yf\n",
        "\n",
        "## Feature Engineering\n",
        "import pandas as pd\n",
        "import numpy as np\n",
        "\n",
        "## HPO & Training\n",
        "from scipy.stats import randint\n",
        "import random\n",
        "from sklearn.model_selection import train_test_split, GridSearchCV\n",
        "from sklearn.model_selection import RandomizedSearchCV\n",
        "from xgboost import XGBClassifier\n",
        "\n",
        "## Evaluation\n",
        "from sklearn.metrics import accuracy_score, classification_report, confusion_matrix, precision_score, recall_score, accuracy_score\n",
        "from xgboost import plot_importance\n",
        "import matplotlib.pyplot as plt\n",
        "import plotly.graph_objects as go"
      ],
      "metadata": {
        "id": "2foBP8MtUDeJ"
      },
      "execution_count": null,
      "outputs": []
    },
    {
      "cell_type": "markdown",
      "source": [
        "## Data"
      ],
      "metadata": {
        "id": "nZvvB18kZ5s0"
      }
    },
    {
      "cell_type": "code",
      "source": [
        "start = \"1990-01-01\"\n",
        "end = \"2024-01-01\"\n",
        "\n",
        "TICKER = yf.Ticker(\"SPY\")\n",
        "SPY = TICKER.history(start=start,end=end)\n",
        "data = SPY[['Open','High','Low','Close']]"
      ],
      "metadata": {
        "id": "EkM0oAd1pXMe"
      },
      "execution_count": null,
      "outputs": []
    },
    {
      "cell_type": "markdown",
      "source": [
        "## Function"
      ],
      "metadata": {
        "id": "xV5MC-GhFnqD"
      }
    },
    {
      "cell_type": "code",
      "source": [
        "def SMA(df,n):\n",
        "  data[str(n) + \"_SMA\"] = (data.Close / data.Close.rolling(50).mean())"
      ],
      "metadata": {
        "id": "NVhp5IdNW2I2"
      },
      "execution_count": null,
      "outputs": []
    },
    {
      "cell_type": "code",
      "source": [
        "def RSI(df, n=14):\n",
        "    Price_Change = df['Close'].diff()\n",
        "\n",
        "    # Calculate the average gain and average loss\n",
        "    Gain = Price_Change.where(Price_Change > 0, 0)\n",
        "    Loss = -Price_Change.where(Price_Change < 0, 0)\n",
        "    Avg_Gain = Gain.rolling(window=n, min_periods=1).mean()\n",
        "    Avg_Loss = Loss.rolling(window=n, min_periods=1).mean()\n",
        "\n",
        "    # Calculate the relative strength (RS)\n",
        "    RS = Avg_Gain / Avg_Loss\n",
        "\n",
        "    # Calculate the RSI\n",
        "    df[str(n) + '_RSI'] = 100 - (100 / (1 + RS))"
      ],
      "metadata": {
        "id": "G-HBPquvrhUy"
      },
      "execution_count": null,
      "outputs": []
    },
    {
      "cell_type": "code",
      "source": [
        "def is_close_price_higher(df):\n",
        "    open_price = df['Open']\n",
        "    close_price = df['Close']\n",
        "    signal =  (1 if close_price > open_price else 0)\n",
        "    df['signal'] = signal"
      ],
      "metadata": {
        "id": "RruThOUgulBf"
      },
      "execution_count": null,
      "outputs": []
    },
    {
      "cell_type": "markdown",
      "source": [
        "## Feature Engineering"
      ],
      "metadata": {
        "id": "m3oXlWdCrPVO"
      }
    },
    {
      "cell_type": "code",
      "source": [
        "data['Signal'] = data.apply(lambda row: 1 if row['Close'] > row['Open'] else 0, axis=1)\n",
        "\n",
        "for i in range(5,100,5):\n",
        "  SMA(df = data, n = i)\n",
        "\n",
        "for i in range(4,30,2):\n",
        "  RSI(df = data, n = i)"
      ],
      "metadata": {
        "colab": {
          "base_uri": "https://localhost:8080/"
        },
        "id": "ssOBX0i5qh91",
        "outputId": "583e15a5-1f90-47f1-ad85-bc5d0700325e"
      },
      "execution_count": null,
      "outputs": [
        {
          "output_type": "stream",
          "name": "stderr",
          "text": [
            "<ipython-input-43-5712215681bc>:1: SettingWithCopyWarning: \n",
            "A value is trying to be set on a copy of a slice from a DataFrame.\n",
            "Try using .loc[row_indexer,col_indexer] = value instead\n",
            "\n",
            "See the caveats in the documentation: https://pandas.pydata.org/pandas-docs/stable/user_guide/indexing.html#returning-a-view-versus-a-copy\n",
            "  data['Signal'] = data.apply(lambda row: 1 if row['Close'] > row['Open'] else 0, axis=1)\n",
            "<ipython-input-40-17e569242934>:2: SettingWithCopyWarning: \n",
            "A value is trying to be set on a copy of a slice from a DataFrame.\n",
            "Try using .loc[row_indexer,col_indexer] = value instead\n",
            "\n",
            "See the caveats in the documentation: https://pandas.pydata.org/pandas-docs/stable/user_guide/indexing.html#returning-a-view-versus-a-copy\n",
            "  data[str(n) + \"_SMA\"] = (data.Close / data.Close.rolling(50).mean())\n",
            "<ipython-input-40-17e569242934>:2: SettingWithCopyWarning: \n",
            "A value is trying to be set on a copy of a slice from a DataFrame.\n",
            "Try using .loc[row_indexer,col_indexer] = value instead\n",
            "\n",
            "See the caveats in the documentation: https://pandas.pydata.org/pandas-docs/stable/user_guide/indexing.html#returning-a-view-versus-a-copy\n",
            "  data[str(n) + \"_SMA\"] = (data.Close / data.Close.rolling(50).mean())\n"
          ]
        }
      ]
    },
    {
      "cell_type": "markdown",
      "source": [
        "## Model Prep"
      ],
      "metadata": {
        "id": "iXMLgVP6t2lP"
      }
    },
    {
      "cell_type": "code",
      "source": [
        "data = data.dropna()"
      ],
      "metadata": {
        "id": "R2559runA8lF"
      },
      "execution_count": null,
      "outputs": []
    },
    {
      "cell_type": "code",
      "source": [
        "X = data.iloc[:,5:]\n",
        "y = data['Signal']\n",
        "\n",
        "# Split the data into training and testing sets\n",
        "X_train, X_test, y_train, y_test = train_test_split(X, y, test_size=0.2, random_state=42)"
      ],
      "metadata": {
        "id": "mBvEyYGyHJIs"
      },
      "execution_count": null,
      "outputs": []
    },
    {
      "cell_type": "markdown",
      "source": [
        "## HPO"
      ],
      "metadata": {
        "id": "nLQMaz0xHJuP"
      }
    },
    {
      "cell_type": "code",
      "source": [
        "# Define hyperparameters to optimize\n",
        "param_grid = {\n",
        "    'n_estimators': randint(100,500),\n",
        "    'learning_rate': random.choices(np.arange(0.1,1,0.05)),\n",
        "    'max_depth': randint(1,10),\n",
        "    'subsample': random.choices(np.arange(0.1,1,0.05)),\n",
        "    'reg_alpha': [0.01,0.1,1,10],\n",
        "    'objective': ['binary:logistic']\n",
        "}\n",
        "\n",
        "# Create an XGBoost classifier\n",
        "xgb_classifier = XGBClassifier()\n",
        "\n",
        "# Perform hyperparameter optimization using GridSearchCV\n",
        "random_search = RandomizedSearchCV(\n",
        "    xgb_classifier,\n",
        "    param_distributions=param_grid,\n",
        "    n_iter=20,  # specify the number of iterations\n",
        "    cv=2,  # specify the number of cross-validation folds\n",
        "    verbose=3\n",
        "    )\n",
        "\n",
        "random_search.fit(X_train, y_train)\n",
        "\n",
        "# Get the best hyperparameters\n",
        "best_params = random_search.best_params_"
      ],
      "metadata": {
        "colab": {
          "base_uri": "https://localhost:8080/"
        },
        "id": "44chFzJwGVHW",
        "outputId": "29485bb2-4105-42e4-e4e0-18624d690a91"
      },
      "execution_count": null,
      "outputs": [
        {
          "output_type": "stream",
          "name": "stdout",
          "text": [
            "Fitting 2 folds for each of 20 candidates, totalling 40 fits\n",
            "[CV 1/2] END learning_rate=0.9500000000000003, max_depth=4, n_estimators=441, objective=binary:logistic, reg_alpha=1, subsample=0.7000000000000002;, score=0.566 total time=  24.9s\n",
            "[CV 2/2] END learning_rate=0.9500000000000003, max_depth=4, n_estimators=441, objective=binary:logistic, reg_alpha=1, subsample=0.7000000000000002;, score=0.565 total time=   1.3s\n",
            "[CV 1/2] END learning_rate=0.9500000000000003, max_depth=3, n_estimators=261, objective=binary:logistic, reg_alpha=1, subsample=0.7000000000000002;, score=0.569 total time=   0.6s\n",
            "[CV 2/2] END learning_rate=0.9500000000000003, max_depth=3, n_estimators=261, objective=binary:logistic, reg_alpha=1, subsample=0.7000000000000002;, score=0.569 total time=   0.6s\n",
            "[CV 1/2] END learning_rate=0.9500000000000003, max_depth=5, n_estimators=135, objective=binary:logistic, reg_alpha=0.1, subsample=0.7000000000000002;, score=0.562 total time=   0.6s\n",
            "[CV 2/2] END learning_rate=0.9500000000000003, max_depth=5, n_estimators=135, objective=binary:logistic, reg_alpha=0.1, subsample=0.7000000000000002;, score=0.588 total time=   0.6s\n",
            "[CV 1/2] END learning_rate=0.9500000000000003, max_depth=1, n_estimators=492, objective=binary:logistic, reg_alpha=0.01, subsample=0.7000000000000002;, score=0.587 total time=   0.4s\n",
            "[CV 2/2] END learning_rate=0.9500000000000003, max_depth=1, n_estimators=492, objective=binary:logistic, reg_alpha=0.01, subsample=0.7000000000000002;, score=0.592 total time=   0.4s\n",
            "[CV 1/2] END learning_rate=0.9500000000000003, max_depth=1, n_estimators=406, objective=binary:logistic, reg_alpha=10, subsample=0.7000000000000002;, score=0.609 total time=   0.4s\n",
            "[CV 2/2] END learning_rate=0.9500000000000003, max_depth=1, n_estimators=406, objective=binary:logistic, reg_alpha=10, subsample=0.7000000000000002;, score=0.635 total time=   0.4s\n",
            "[CV 1/2] END learning_rate=0.9500000000000003, max_depth=1, n_estimators=423, objective=binary:logistic, reg_alpha=0.01, subsample=0.7000000000000002;, score=0.585 total time=   0.4s\n",
            "[CV 2/2] END learning_rate=0.9500000000000003, max_depth=1, n_estimators=423, objective=binary:logistic, reg_alpha=0.01, subsample=0.7000000000000002;, score=0.591 total time=   0.4s\n",
            "[CV 1/2] END learning_rate=0.9500000000000003, max_depth=9, n_estimators=418, objective=binary:logistic, reg_alpha=10, subsample=0.7000000000000002;, score=0.589 total time=   1.6s\n",
            "[CV 2/2] END learning_rate=0.9500000000000003, max_depth=9, n_estimators=418, objective=binary:logistic, reg_alpha=10, subsample=0.7000000000000002;, score=0.588 total time=   1.6s\n",
            "[CV 1/2] END learning_rate=0.9500000000000003, max_depth=8, n_estimators=462, objective=binary:logistic, reg_alpha=0.01, subsample=0.7000000000000002;, score=0.581 total time=   4.7s\n",
            "[CV 2/2] END learning_rate=0.9500000000000003, max_depth=8, n_estimators=462, objective=binary:logistic, reg_alpha=0.01, subsample=0.7000000000000002;, score=0.585 total time=   1.6s\n",
            "[CV 1/2] END learning_rate=0.9500000000000003, max_depth=7, n_estimators=248, objective=binary:logistic, reg_alpha=10, subsample=0.7000000000000002;, score=0.574 total time=   1.0s\n",
            "[CV 2/2] END learning_rate=0.9500000000000003, max_depth=7, n_estimators=248, objective=binary:logistic, reg_alpha=10, subsample=0.7000000000000002;, score=0.590 total time=   1.0s\n",
            "[CV 1/2] END learning_rate=0.9500000000000003, max_depth=1, n_estimators=401, objective=binary:logistic, reg_alpha=10, subsample=0.7000000000000002;, score=0.604 total time=   0.3s\n",
            "[CV 2/2] END learning_rate=0.9500000000000003, max_depth=1, n_estimators=401, objective=binary:logistic, reg_alpha=10, subsample=0.7000000000000002;, score=0.631 total time=   0.3s\n",
            "[CV 1/2] END learning_rate=0.9500000000000003, max_depth=5, n_estimators=113, objective=binary:logistic, reg_alpha=0.01, subsample=0.7000000000000002;, score=0.585 total time=   0.5s\n",
            "[CV 2/2] END learning_rate=0.9500000000000003, max_depth=5, n_estimators=113, objective=binary:logistic, reg_alpha=0.01, subsample=0.7000000000000002;, score=0.574 total time=   0.5s\n",
            "[CV 1/2] END learning_rate=0.9500000000000003, max_depth=1, n_estimators=405, objective=binary:logistic, reg_alpha=0.1, subsample=0.7000000000000002;, score=0.579 total time=   0.4s\n",
            "[CV 2/2] END learning_rate=0.9500000000000003, max_depth=1, n_estimators=405, objective=binary:logistic, reg_alpha=0.1, subsample=0.7000000000000002;, score=0.593 total time=   0.3s\n",
            "[CV 1/2] END learning_rate=0.9500000000000003, max_depth=5, n_estimators=359, objective=binary:logistic, reg_alpha=10, subsample=0.7000000000000002;, score=0.593 total time=   1.1s\n",
            "[CV 2/2] END learning_rate=0.9500000000000003, max_depth=5, n_estimators=359, objective=binary:logistic, reg_alpha=10, subsample=0.7000000000000002;, score=0.587 total time=   1.1s\n",
            "[CV 1/2] END learning_rate=0.9500000000000003, max_depth=5, n_estimators=424, objective=binary:logistic, reg_alpha=0.01, subsample=0.7000000000000002;, score=0.579 total time=   4.2s\n",
            "[CV 2/2] END learning_rate=0.9500000000000003, max_depth=5, n_estimators=424, objective=binary:logistic, reg_alpha=0.01, subsample=0.7000000000000002;, score=0.566 total time=   1.6s\n",
            "[CV 1/2] END learning_rate=0.9500000000000003, max_depth=7, n_estimators=263, objective=binary:logistic, reg_alpha=1, subsample=0.7000000000000002;, score=0.578 total time=   1.3s\n",
            "[CV 2/2] END learning_rate=0.9500000000000003, max_depth=7, n_estimators=263, objective=binary:logistic, reg_alpha=1, subsample=0.7000000000000002;, score=0.569 total time=   1.3s\n",
            "[CV 1/2] END learning_rate=0.9500000000000003, max_depth=9, n_estimators=265, objective=binary:logistic, reg_alpha=10, subsample=0.7000000000000002;, score=0.586 total time=   1.3s\n",
            "[CV 2/2] END learning_rate=0.9500000000000003, max_depth=9, n_estimators=265, objective=binary:logistic, reg_alpha=10, subsample=0.7000000000000002;, score=0.593 total time=   1.2s\n",
            "[CV 1/2] END learning_rate=0.9500000000000003, max_depth=1, n_estimators=292, objective=binary:logistic, reg_alpha=10, subsample=0.7000000000000002;, score=0.613 total time=   0.3s\n",
            "[CV 2/2] END learning_rate=0.9500000000000003, max_depth=1, n_estimators=292, objective=binary:logistic, reg_alpha=10, subsample=0.7000000000000002;, score=0.634 total time=   0.3s\n",
            "[CV 1/2] END learning_rate=0.9500000000000003, max_depth=9, n_estimators=433, objective=binary:logistic, reg_alpha=10, subsample=0.7000000000000002;, score=0.588 total time=   1.6s\n",
            "[CV 2/2] END learning_rate=0.9500000000000003, max_depth=9, n_estimators=433, objective=binary:logistic, reg_alpha=10, subsample=0.7000000000000002;, score=0.586 total time=   4.2s\n",
            "[CV 1/2] END learning_rate=0.9500000000000003, max_depth=8, n_estimators=447, objective=binary:logistic, reg_alpha=0.1, subsample=0.7000000000000002;, score=0.577 total time=   2.1s\n",
            "[CV 2/2] END learning_rate=0.9500000000000003, max_depth=8, n_estimators=447, objective=binary:logistic, reg_alpha=0.1, subsample=0.7000000000000002;, score=0.579 total time=   1.6s\n",
            "[CV 1/2] END learning_rate=0.9500000000000003, max_depth=1, n_estimators=175, objective=binary:logistic, reg_alpha=0.1, subsample=0.7000000000000002;, score=0.603 total time=   0.2s\n",
            "[CV 2/2] END learning_rate=0.9500000000000003, max_depth=1, n_estimators=175, objective=binary:logistic, reg_alpha=0.1, subsample=0.7000000000000002;, score=0.595 total time=   0.2s\n"
          ]
        }
      ]
    },
    {
      "cell_type": "code",
      "source": [
        "# Train the classifier with the best hyperparameters on the training data\n",
        "best_xgb_classifier = XGBClassifier(**best_params)\n",
        "best_xgb_classifier.fit(X_train, y_train)\n",
        "\n",
        "# Make predictions on the test data\n",
        "y_pred = best_xgb_classifier.predict(X_test)\n",
        "\n",
        "# Evaluate the model\n",
        "classification_report_str = classification_report(y_test, y_pred)\n",
        "\n",
        "# Print the best hyperparameters and evaluation results\n",
        "print('Classification Report:')\n",
        "print(classification_report_str)"
      ],
      "metadata": {
        "id": "BxR6jwH5V0wK",
        "colab": {
          "base_uri": "https://localhost:8080/"
        },
        "outputId": "58beace4-0aa5-41e0-8e6a-1365e14e7537"
      },
      "execution_count": null,
      "outputs": [
        {
          "output_type": "stream",
          "name": "stdout",
          "text": [
            "Classification Report:\n",
            "              precision    recall  f1-score   support\n",
            "\n",
            "           0       0.63      0.55      0.59       761\n",
            "           1       0.61      0.69      0.65       780\n",
            "\n",
            "    accuracy                           0.62      1541\n",
            "   macro avg       0.62      0.62      0.62      1541\n",
            "weighted avg       0.62      0.62      0.62      1541\n",
            "\n"
          ]
        }
      ]
    },
    {
      "cell_type": "code",
      "source": [
        "# Make predictions on the test set\n",
        "y_pred_prob = best_xgb_classifier.predict_proba(X_test)[:, 1]\n",
        "\n",
        "thresholds = np.arange(0, 1.01, 0.01)\n",
        "precision_scores_class_0 = []\n",
        "precision_scores_class_1 = []\n",
        "\n",
        "for threshold in thresholds:\n",
        "    y_pred = (y_pred_prob > threshold).astype(int)\n",
        "    precision = precision_score(y_test, y_pred, average=None)\n",
        "    precision_scores_class_0.append(precision[0])\n",
        "    precision_scores_class_1.append(precision[1])\n",
        "\n",
        "fig = go.Figure()\n",
        "\n",
        "fig.add_trace(go.Scatter(x=thresholds, y=precision_scores_class_0, mode='lines', name='Precision Class 0'))\n",
        "fig.add_trace(go.Scatter(x=thresholds, y=precision_scores_class_1, mode='lines', name='Precision Class 1'))\n",
        "\n",
        "fig.update_layout(\n",
        "    title='Precision Scores for Both Classes at Different Thresholds',\n",
        "    xaxis=dict(title='Threshold'),\n",
        "    yaxis=dict(title='Precision Score'),\n",
        "    legend=dict(x=0, y=1, traceorder='normal')\n",
        ")\n",
        "\n",
        "fig.show()"
      ],
      "metadata": {
        "colab": {
          "base_uri": "https://localhost:8080/",
          "height": 1000
        },
        "id": "pAGPRZBHS2_W",
        "outputId": "addc6fb0-84e6-4d29-b570-fe423889a4a8"
      },
      "execution_count": null,
      "outputs": [
        {
          "output_type": "stream",
          "name": "stderr",
          "text": [
            "/usr/local/lib/python3.10/dist-packages/sklearn/metrics/_classification.py:1344: UndefinedMetricWarning:\n",
            "\n",
            "Precision is ill-defined and being set to 0.0 in labels with no predicted samples. Use `zero_division` parameter to control this behavior.\n",
            "\n",
            "/usr/local/lib/python3.10/dist-packages/sklearn/metrics/_classification.py:1344: UndefinedMetricWarning:\n",
            "\n",
            "Precision is ill-defined and being set to 0.0 in labels with no predicted samples. Use `zero_division` parameter to control this behavior.\n",
            "\n",
            "/usr/local/lib/python3.10/dist-packages/sklearn/metrics/_classification.py:1344: UndefinedMetricWarning:\n",
            "\n",
            "Precision is ill-defined and being set to 0.0 in labels with no predicted samples. Use `zero_division` parameter to control this behavior.\n",
            "\n",
            "/usr/local/lib/python3.10/dist-packages/sklearn/metrics/_classification.py:1344: UndefinedMetricWarning:\n",
            "\n",
            "Precision is ill-defined and being set to 0.0 in labels with no predicted samples. Use `zero_division` parameter to control this behavior.\n",
            "\n",
            "/usr/local/lib/python3.10/dist-packages/sklearn/metrics/_classification.py:1344: UndefinedMetricWarning:\n",
            "\n",
            "Precision is ill-defined and being set to 0.0 in labels with no predicted samples. Use `zero_division` parameter to control this behavior.\n",
            "\n",
            "/usr/local/lib/python3.10/dist-packages/sklearn/metrics/_classification.py:1344: UndefinedMetricWarning:\n",
            "\n",
            "Precision is ill-defined and being set to 0.0 in labels with no predicted samples. Use `zero_division` parameter to control this behavior.\n",
            "\n",
            "/usr/local/lib/python3.10/dist-packages/sklearn/metrics/_classification.py:1344: UndefinedMetricWarning:\n",
            "\n",
            "Precision is ill-defined and being set to 0.0 in labels with no predicted samples. Use `zero_division` parameter to control this behavior.\n",
            "\n",
            "/usr/local/lib/python3.10/dist-packages/sklearn/metrics/_classification.py:1344: UndefinedMetricWarning:\n",
            "\n",
            "Precision is ill-defined and being set to 0.0 in labels with no predicted samples. Use `zero_division` parameter to control this behavior.\n",
            "\n",
            "/usr/local/lib/python3.10/dist-packages/sklearn/metrics/_classification.py:1344: UndefinedMetricWarning:\n",
            "\n",
            "Precision is ill-defined and being set to 0.0 in labels with no predicted samples. Use `zero_division` parameter to control this behavior.\n",
            "\n",
            "/usr/local/lib/python3.10/dist-packages/sklearn/metrics/_classification.py:1344: UndefinedMetricWarning:\n",
            "\n",
            "Precision is ill-defined and being set to 0.0 in labels with no predicted samples. Use `zero_division` parameter to control this behavior.\n",
            "\n",
            "/usr/local/lib/python3.10/dist-packages/sklearn/metrics/_classification.py:1344: UndefinedMetricWarning:\n",
            "\n",
            "Precision is ill-defined and being set to 0.0 in labels with no predicted samples. Use `zero_division` parameter to control this behavior.\n",
            "\n",
            "/usr/local/lib/python3.10/dist-packages/sklearn/metrics/_classification.py:1344: UndefinedMetricWarning:\n",
            "\n",
            "Precision is ill-defined and being set to 0.0 in labels with no predicted samples. Use `zero_division` parameter to control this behavior.\n",
            "\n",
            "/usr/local/lib/python3.10/dist-packages/sklearn/metrics/_classification.py:1344: UndefinedMetricWarning:\n",
            "\n",
            "Precision is ill-defined and being set to 0.0 in labels with no predicted samples. Use `zero_division` parameter to control this behavior.\n",
            "\n",
            "/usr/local/lib/python3.10/dist-packages/sklearn/metrics/_classification.py:1344: UndefinedMetricWarning:\n",
            "\n",
            "Precision is ill-defined and being set to 0.0 in labels with no predicted samples. Use `zero_division` parameter to control this behavior.\n",
            "\n",
            "/usr/local/lib/python3.10/dist-packages/sklearn/metrics/_classification.py:1344: UndefinedMetricWarning:\n",
            "\n",
            "Precision is ill-defined and being set to 0.0 in labels with no predicted samples. Use `zero_division` parameter to control this behavior.\n",
            "\n"
          ]
        },
        {
          "output_type": "display_data",
          "data": {
            "text/html": [
              "<html>\n",
              "<head><meta charset=\"utf-8\" /></head>\n",
              "<body>\n",
              "    <div>            <script src=\"https://cdnjs.cloudflare.com/ajax/libs/mathjax/2.7.5/MathJax.js?config=TeX-AMS-MML_SVG\"></script><script type=\"text/javascript\">if (window.MathJax && window.MathJax.Hub && window.MathJax.Hub.Config) {window.MathJax.Hub.Config({SVG: {font: \"STIX-Web\"}});}</script>                <script type=\"text/javascript\">window.PlotlyConfig = {MathJaxConfig: 'local'};</script>\n",
              "        <script charset=\"utf-8\" src=\"https://cdn.plot.ly/plotly-2.24.1.min.js\"></script>                <div id=\"a2012a12-28b3-44d8-87c0-18ab35a4decd\" class=\"plotly-graph-div\" style=\"height:525px; width:100%;\"></div>            <script type=\"text/javascript\">                                    window.PLOTLYENV=window.PLOTLYENV || {};                                    if (document.getElementById(\"a2012a12-28b3-44d8-87c0-18ab35a4decd\")) {                    Plotly.newPlot(                        \"a2012a12-28b3-44d8-87c0-18ab35a4decd\",                        [{\"mode\":\"lines\",\"name\":\"Precision Class 0\",\"x\":[0.0,0.01,0.02,0.03,0.04,0.05,0.06,0.07,0.08,0.09,0.1,0.11,0.12,0.13,0.14,0.15,0.16,0.17,0.18,0.19,0.2,0.21,0.22,0.23,0.24,0.25,0.26,0.27,0.28,0.29,0.3,0.31,0.32,0.33,0.34,0.35000000000000003,0.36,0.37,0.38,0.39,0.4,0.41000000000000003,0.42,0.43,0.44,0.45,0.46,0.47000000000000003,0.48,0.49,0.5,0.51,0.52,0.53,0.54,0.55,0.56,0.5700000000000001,0.58,0.59,0.6,0.61,0.62,0.63,0.64,0.65,0.66,0.67,0.68,0.6900000000000001,0.7000000000000001,0.71,0.72,0.73,0.74,0.75,0.76,0.77,0.78,0.79,0.8,0.81,0.8200000000000001,0.8300000000000001,0.84,0.85,0.86,0.87,0.88,0.89,0.9,0.91,0.92,0.93,0.9400000000000001,0.9500000000000001,0.96,0.97,0.98,0.99,1.0],\"y\":[0.0,0.0,0.0,0.0,0.0,0.0,0.0,1.0,1.0,1.0,1.0,0.8333333333333334,0.8181818181818182,0.8064516129032258,0.8461538461538461,0.851063829787234,0.8181818181818182,0.828125,0.8513513513513513,0.8333333333333334,0.8415841584158416,0.8181818181818182,0.8130081300813008,0.8045112781954887,0.8055555555555556,0.7839506172839507,0.7777777777777778,0.7569060773480663,0.7526315789473684,0.7560975609756098,0.7545454545454545,0.75,0.749034749034749,0.7408759124087592,0.7241379310344828,0.7302631578947368,0.7269938650306749,0.7212643678160919,0.7111716621253406,0.7135416666666666,0.7012345679012346,0.6894117647058824,0.6860986547085202,0.6652631578947369,0.6646464646464646,0.6608863198458574,0.6623376623376623,0.6514886164623468,0.6439267886855241,0.64171974522293,0.6342943854324734,0.6309696092619392,0.6211699164345403,0.6129032258064516,0.6054333764553687,0.6062893081761006,0.6024096385542169,0.5997693194925029,0.5993377483443708,0.5927505330490405,0.5889003083247688,0.5830845771144278,0.5799614643545279,0.5779036827195467,0.5739371534195934,0.5692307692307692,0.5657894736842105,0.562874251497006,0.5604670558798999,0.5588235294117647,0.5530546623794212,0.545311268715524,0.5430566330488751,0.5396341463414634,0.5382308845577212,0.5352635486265775,0.5315712187958884,0.529839883551674,0.5274170274170275,0.5243204577968527,0.5201129146083274,0.5149617258176757,0.5113558155540262,0.50920245398773,0.5077650236326806,0.5040160642570282,0.5009940357852882,0.4977049180327869,0.4970607446113651,0.49576547231270357,0.4944769330734243,0.4944769330734243,0.4941558441558442,0.4938351719662557,0.4938351719662557,0.4938351719662557,0.4938351719662557,0.4938351719662557,0.4938351719662557,0.4938351719662557,0.4938351719662557],\"type\":\"scatter\"},{\"mode\":\"lines\",\"name\":\"Precision Class 1\",\"x\":[0.0,0.01,0.02,0.03,0.04,0.05,0.06,0.07,0.08,0.09,0.1,0.11,0.12,0.13,0.14,0.15,0.16,0.17,0.18,0.19,0.2,0.21,0.22,0.23,0.24,0.25,0.26,0.27,0.28,0.29,0.3,0.31,0.32,0.33,0.34,0.35000000000000003,0.36,0.37,0.38,0.39,0.4,0.41000000000000003,0.42,0.43,0.44,0.45,0.46,0.47000000000000003,0.48,0.49,0.5,0.51,0.52,0.53,0.54,0.55,0.56,0.5700000000000001,0.58,0.59,0.6,0.61,0.62,0.63,0.64,0.65,0.66,0.67,0.68,0.6900000000000001,0.7000000000000001,0.71,0.72,0.73,0.74,0.75,0.76,0.77,0.78,0.79,0.8,0.81,0.8200000000000001,0.8300000000000001,0.84,0.85,0.86,0.87,0.88,0.89,0.9,0.91,0.92,0.93,0.9400000000000001,0.9500000000000001,0.96,0.97,0.98,0.99,1.0],\"y\":[0.5061648280337443,0.5061648280337443,0.5061648280337443,0.5061648280337443,0.5061648280337443,0.5061648280337443,0.5061648280337443,0.5064935064935064,0.5064935064935064,0.5071521456436932,0.5074821080026025,0.5074918566775244,0.510862409479921,0.5125827814569537,0.5153129161118508,0.5174029451137885,0.5181695827725438,0.5206499661475965,0.5241990456714383,0.5272226050999311,0.5305555555555556,0.5310971348707197,0.5338504936530324,0.5355113636363636,0.5382963493199714,0.5402465554749819,0.5416058394160584,0.5411764705882353,0.542561065877128,0.5464071856287425,0.5495836487509462,0.5534204458109147,0.5577223088923557,0.5595895816890292,0.5595523581135092,0.5642683912691997,0.568724279835391,0.5725062866722548,0.5741056218057922,0.5790838375108038,0.5801056338028169,0.5806451612903226,0.5844748858447488,0.5825515947467167,0.5869980879541109,0.5909980430528375,0.5968063872255489,0.5989690721649484,0.6021276595744681,0.6078860898138007,0.6111111111111112,0.6176470588235294,0.6172539489671932,0.617314930991217,0.6184895833333334,0.6260053619302949,0.6329113924050633,0.642433234421365,0.6566929133858268,0.6600331674958541,0.6690140845070423,0.6735074626865671,0.68389662027833,0.6908713692946058,0.6949891067538126,0.6972477064220184,0.7107231920199502,0.7231182795698925,0.7397660818713451,0.7570977917981072,0.7542087542087542,0.7463235294117647,0.7579365079365079,0.7685589519650655,0.7922705314009661,0.7938144329896907,0.7932960893854749,0.8023952095808383,0.8064516129032258,0.8041958041958042,0.8064516129032258,0.7980769230769231,0.7954545454545454,0.8108108108108109,0.85,0.8297872340425532,0.84375,0.875,1.0,1.0,1.0,1.0,1.0,0.0,0.0,0.0,0.0,0.0,0.0,0.0,0.0],\"type\":\"scatter\"}],                        {\"template\":{\"data\":{\"histogram2dcontour\":[{\"type\":\"histogram2dcontour\",\"colorbar\":{\"outlinewidth\":0,\"ticks\":\"\"},\"colorscale\":[[0.0,\"#0d0887\"],[0.1111111111111111,\"#46039f\"],[0.2222222222222222,\"#7201a8\"],[0.3333333333333333,\"#9c179e\"],[0.4444444444444444,\"#bd3786\"],[0.5555555555555556,\"#d8576b\"],[0.6666666666666666,\"#ed7953\"],[0.7777777777777778,\"#fb9f3a\"],[0.8888888888888888,\"#fdca26\"],[1.0,\"#f0f921\"]]}],\"choropleth\":[{\"type\":\"choropleth\",\"colorbar\":{\"outlinewidth\":0,\"ticks\":\"\"}}],\"histogram2d\":[{\"type\":\"histogram2d\",\"colorbar\":{\"outlinewidth\":0,\"ticks\":\"\"},\"colorscale\":[[0.0,\"#0d0887\"],[0.1111111111111111,\"#46039f\"],[0.2222222222222222,\"#7201a8\"],[0.3333333333333333,\"#9c179e\"],[0.4444444444444444,\"#bd3786\"],[0.5555555555555556,\"#d8576b\"],[0.6666666666666666,\"#ed7953\"],[0.7777777777777778,\"#fb9f3a\"],[0.8888888888888888,\"#fdca26\"],[1.0,\"#f0f921\"]]}],\"heatmap\":[{\"type\":\"heatmap\",\"colorbar\":{\"outlinewidth\":0,\"ticks\":\"\"},\"colorscale\":[[0.0,\"#0d0887\"],[0.1111111111111111,\"#46039f\"],[0.2222222222222222,\"#7201a8\"],[0.3333333333333333,\"#9c179e\"],[0.4444444444444444,\"#bd3786\"],[0.5555555555555556,\"#d8576b\"],[0.6666666666666666,\"#ed7953\"],[0.7777777777777778,\"#fb9f3a\"],[0.8888888888888888,\"#fdca26\"],[1.0,\"#f0f921\"]]}],\"heatmapgl\":[{\"type\":\"heatmapgl\",\"colorbar\":{\"outlinewidth\":0,\"ticks\":\"\"},\"colorscale\":[[0.0,\"#0d0887\"],[0.1111111111111111,\"#46039f\"],[0.2222222222222222,\"#7201a8\"],[0.3333333333333333,\"#9c179e\"],[0.4444444444444444,\"#bd3786\"],[0.5555555555555556,\"#d8576b\"],[0.6666666666666666,\"#ed7953\"],[0.7777777777777778,\"#fb9f3a\"],[0.8888888888888888,\"#fdca26\"],[1.0,\"#f0f921\"]]}],\"contourcarpet\":[{\"type\":\"contourcarpet\",\"colorbar\":{\"outlinewidth\":0,\"ticks\":\"\"}}],\"contour\":[{\"type\":\"contour\",\"colorbar\":{\"outlinewidth\":0,\"ticks\":\"\"},\"colorscale\":[[0.0,\"#0d0887\"],[0.1111111111111111,\"#46039f\"],[0.2222222222222222,\"#7201a8\"],[0.3333333333333333,\"#9c179e\"],[0.4444444444444444,\"#bd3786\"],[0.5555555555555556,\"#d8576b\"],[0.6666666666666666,\"#ed7953\"],[0.7777777777777778,\"#fb9f3a\"],[0.8888888888888888,\"#fdca26\"],[1.0,\"#f0f921\"]]}],\"surface\":[{\"type\":\"surface\",\"colorbar\":{\"outlinewidth\":0,\"ticks\":\"\"},\"colorscale\":[[0.0,\"#0d0887\"],[0.1111111111111111,\"#46039f\"],[0.2222222222222222,\"#7201a8\"],[0.3333333333333333,\"#9c179e\"],[0.4444444444444444,\"#bd3786\"],[0.5555555555555556,\"#d8576b\"],[0.6666666666666666,\"#ed7953\"],[0.7777777777777778,\"#fb9f3a\"],[0.8888888888888888,\"#fdca26\"],[1.0,\"#f0f921\"]]}],\"mesh3d\":[{\"type\":\"mesh3d\",\"colorbar\":{\"outlinewidth\":0,\"ticks\":\"\"}}],\"scatter\":[{\"fillpattern\":{\"fillmode\":\"overlay\",\"size\":10,\"solidity\":0.2},\"type\":\"scatter\"}],\"parcoords\":[{\"type\":\"parcoords\",\"line\":{\"colorbar\":{\"outlinewidth\":0,\"ticks\":\"\"}}}],\"scatterpolargl\":[{\"type\":\"scatterpolargl\",\"marker\":{\"colorbar\":{\"outlinewidth\":0,\"ticks\":\"\"}}}],\"bar\":[{\"error_x\":{\"color\":\"#2a3f5f\"},\"error_y\":{\"color\":\"#2a3f5f\"},\"marker\":{\"line\":{\"color\":\"#E5ECF6\",\"width\":0.5},\"pattern\":{\"fillmode\":\"overlay\",\"size\":10,\"solidity\":0.2}},\"type\":\"bar\"}],\"scattergeo\":[{\"type\":\"scattergeo\",\"marker\":{\"colorbar\":{\"outlinewidth\":0,\"ticks\":\"\"}}}],\"scatterpolar\":[{\"type\":\"scatterpolar\",\"marker\":{\"colorbar\":{\"outlinewidth\":0,\"ticks\":\"\"}}}],\"histogram\":[{\"marker\":{\"pattern\":{\"fillmode\":\"overlay\",\"size\":10,\"solidity\":0.2}},\"type\":\"histogram\"}],\"scattergl\":[{\"type\":\"scattergl\",\"marker\":{\"colorbar\":{\"outlinewidth\":0,\"ticks\":\"\"}}}],\"scatter3d\":[{\"type\":\"scatter3d\",\"line\":{\"colorbar\":{\"outlinewidth\":0,\"ticks\":\"\"}},\"marker\":{\"colorbar\":{\"outlinewidth\":0,\"ticks\":\"\"}}}],\"scattermapbox\":[{\"type\":\"scattermapbox\",\"marker\":{\"colorbar\":{\"outlinewidth\":0,\"ticks\":\"\"}}}],\"scatterternary\":[{\"type\":\"scatterternary\",\"marker\":{\"colorbar\":{\"outlinewidth\":0,\"ticks\":\"\"}}}],\"scattercarpet\":[{\"type\":\"scattercarpet\",\"marker\":{\"colorbar\":{\"outlinewidth\":0,\"ticks\":\"\"}}}],\"carpet\":[{\"aaxis\":{\"endlinecolor\":\"#2a3f5f\",\"gridcolor\":\"white\",\"linecolor\":\"white\",\"minorgridcolor\":\"white\",\"startlinecolor\":\"#2a3f5f\"},\"baxis\":{\"endlinecolor\":\"#2a3f5f\",\"gridcolor\":\"white\",\"linecolor\":\"white\",\"minorgridcolor\":\"white\",\"startlinecolor\":\"#2a3f5f\"},\"type\":\"carpet\"}],\"table\":[{\"cells\":{\"fill\":{\"color\":\"#EBF0F8\"},\"line\":{\"color\":\"white\"}},\"header\":{\"fill\":{\"color\":\"#C8D4E3\"},\"line\":{\"color\":\"white\"}},\"type\":\"table\"}],\"barpolar\":[{\"marker\":{\"line\":{\"color\":\"#E5ECF6\",\"width\":0.5},\"pattern\":{\"fillmode\":\"overlay\",\"size\":10,\"solidity\":0.2}},\"type\":\"barpolar\"}],\"pie\":[{\"automargin\":true,\"type\":\"pie\"}]},\"layout\":{\"autotypenumbers\":\"strict\",\"colorway\":[\"#636efa\",\"#EF553B\",\"#00cc96\",\"#ab63fa\",\"#FFA15A\",\"#19d3f3\",\"#FF6692\",\"#B6E880\",\"#FF97FF\",\"#FECB52\"],\"font\":{\"color\":\"#2a3f5f\"},\"hovermode\":\"closest\",\"hoverlabel\":{\"align\":\"left\"},\"paper_bgcolor\":\"white\",\"plot_bgcolor\":\"#E5ECF6\",\"polar\":{\"bgcolor\":\"#E5ECF6\",\"angularaxis\":{\"gridcolor\":\"white\",\"linecolor\":\"white\",\"ticks\":\"\"},\"radialaxis\":{\"gridcolor\":\"white\",\"linecolor\":\"white\",\"ticks\":\"\"}},\"ternary\":{\"bgcolor\":\"#E5ECF6\",\"aaxis\":{\"gridcolor\":\"white\",\"linecolor\":\"white\",\"ticks\":\"\"},\"baxis\":{\"gridcolor\":\"white\",\"linecolor\":\"white\",\"ticks\":\"\"},\"caxis\":{\"gridcolor\":\"white\",\"linecolor\":\"white\",\"ticks\":\"\"}},\"coloraxis\":{\"colorbar\":{\"outlinewidth\":0,\"ticks\":\"\"}},\"colorscale\":{\"sequential\":[[0.0,\"#0d0887\"],[0.1111111111111111,\"#46039f\"],[0.2222222222222222,\"#7201a8\"],[0.3333333333333333,\"#9c179e\"],[0.4444444444444444,\"#bd3786\"],[0.5555555555555556,\"#d8576b\"],[0.6666666666666666,\"#ed7953\"],[0.7777777777777778,\"#fb9f3a\"],[0.8888888888888888,\"#fdca26\"],[1.0,\"#f0f921\"]],\"sequentialminus\":[[0.0,\"#0d0887\"],[0.1111111111111111,\"#46039f\"],[0.2222222222222222,\"#7201a8\"],[0.3333333333333333,\"#9c179e\"],[0.4444444444444444,\"#bd3786\"],[0.5555555555555556,\"#d8576b\"],[0.6666666666666666,\"#ed7953\"],[0.7777777777777778,\"#fb9f3a\"],[0.8888888888888888,\"#fdca26\"],[1.0,\"#f0f921\"]],\"diverging\":[[0,\"#8e0152\"],[0.1,\"#c51b7d\"],[0.2,\"#de77ae\"],[0.3,\"#f1b6da\"],[0.4,\"#fde0ef\"],[0.5,\"#f7f7f7\"],[0.6,\"#e6f5d0\"],[0.7,\"#b8e186\"],[0.8,\"#7fbc41\"],[0.9,\"#4d9221\"],[1,\"#276419\"]]},\"xaxis\":{\"gridcolor\":\"white\",\"linecolor\":\"white\",\"ticks\":\"\",\"title\":{\"standoff\":15},\"zerolinecolor\":\"white\",\"automargin\":true,\"zerolinewidth\":2},\"yaxis\":{\"gridcolor\":\"white\",\"linecolor\":\"white\",\"ticks\":\"\",\"title\":{\"standoff\":15},\"zerolinecolor\":\"white\",\"automargin\":true,\"zerolinewidth\":2},\"scene\":{\"xaxis\":{\"backgroundcolor\":\"#E5ECF6\",\"gridcolor\":\"white\",\"linecolor\":\"white\",\"showbackground\":true,\"ticks\":\"\",\"zerolinecolor\":\"white\",\"gridwidth\":2},\"yaxis\":{\"backgroundcolor\":\"#E5ECF6\",\"gridcolor\":\"white\",\"linecolor\":\"white\",\"showbackground\":true,\"ticks\":\"\",\"zerolinecolor\":\"white\",\"gridwidth\":2},\"zaxis\":{\"backgroundcolor\":\"#E5ECF6\",\"gridcolor\":\"white\",\"linecolor\":\"white\",\"showbackground\":true,\"ticks\":\"\",\"zerolinecolor\":\"white\",\"gridwidth\":2}},\"shapedefaults\":{\"line\":{\"color\":\"#2a3f5f\"}},\"annotationdefaults\":{\"arrowcolor\":\"#2a3f5f\",\"arrowhead\":0,\"arrowwidth\":1},\"geo\":{\"bgcolor\":\"white\",\"landcolor\":\"#E5ECF6\",\"subunitcolor\":\"white\",\"showland\":true,\"showlakes\":true,\"lakecolor\":\"white\"},\"title\":{\"x\":0.05},\"mapbox\":{\"style\":\"light\"}}},\"legend\":{\"x\":0,\"y\":1,\"traceorder\":\"normal\"},\"title\":{\"text\":\"Precision Scores for Both Classes at Different Thresholds\"},\"xaxis\":{\"title\":{\"text\":\"Threshold\"}},\"yaxis\":{\"title\":{\"text\":\"Precision Score\"}}},                        {\"responsive\": true}                    ).then(function(){\n",
              "                            \n",
              "var gd = document.getElementById('a2012a12-28b3-44d8-87c0-18ab35a4decd');\n",
              "var x = new MutationObserver(function (mutations, observer) {{\n",
              "        var display = window.getComputedStyle(gd).display;\n",
              "        if (!display || display === 'none') {{\n",
              "            console.log([gd, 'removed!']);\n",
              "            Plotly.purge(gd);\n",
              "            observer.disconnect();\n",
              "        }}\n",
              "}});\n",
              "\n",
              "// Listen for the removal of the full notebook cells\n",
              "var notebookContainer = gd.closest('#notebook-container');\n",
              "if (notebookContainer) {{\n",
              "    x.observe(notebookContainer, {childList: true});\n",
              "}}\n",
              "\n",
              "// Listen for the clearing of the current output cell\n",
              "var outputEl = gd.closest('.output');\n",
              "if (outputEl) {{\n",
              "    x.observe(outputEl, {childList: true});\n",
              "}}\n",
              "\n",
              "                        })                };                            </script>        </div>\n",
              "</body>\n",
              "</html>"
            ]
          },
          "metadata": {}
        }
      ]
    },
    {
      "cell_type": "code",
      "source": [
        "plot_importance(best_xgb_classifier)\n",
        "plt.show()"
      ],
      "metadata": {
        "colab": {
          "base_uri": "https://localhost:8080/",
          "height": 472
        },
        "id": "p52tyy3AN1qm",
        "outputId": "1c9a1efe-e318-4670-c4c8-2950cbbcb48b"
      },
      "execution_count": null,
      "outputs": [
        {
          "output_type": "display_data",
          "data": {
            "text/plain": [
              "<Figure size 640x480 with 1 Axes>"
            ],
            "image/png": "[encoded data removed]"
          },
          "metadata": {}
        }
      ]
    },
    {
      "cell_type": "markdown",
      "source": [
        "## Daily Run"
      ],
      "metadata": {
        "id": "i0l7qGy5BNcw"
      }
    },
    {
      "cell_type": "code",
      "source": [
        "start = \"2022-01-01\"\n",
        "end = \"2023-11-12\"\n",
        "\n",
        "TICKER = yf.Ticker(\"SPY\")\n",
        "SPY = TICKER.history(start=start,end=end)\n",
        "data = SPY[['Open','High','Low','Close']]\n",
        "\n",
        "for i in range(5,100,5):\n",
        "  SMA(df = data, n = i)\n",
        "\n",
        "for i in range(4,30,2):\n",
        "  RSI(df = data, n = i)"
      ],
      "metadata": {
        "id": "t_YQpVk0BO9n",
        "colab": {
          "base_uri": "https://localhost:8080/"
        },
        "outputId": "6628f718-5bce-4226-ea32-64abff8015cf"
      },
      "execution_count": null,
      "outputs": [
        {
          "output_type": "stream",
          "name": "stderr",
          "text": [
            "<ipython-input-40-17e569242934>:2: SettingWithCopyWarning: \n",
            "A value is trying to be set on a copy of a slice from a DataFrame.\n",
            "Try using .loc[row_indexer,col_indexer] = value instead\n",
            "\n",
            "See the caveats in the documentation: https://pandas.pydata.org/pandas-docs/stable/user_guide/indexing.html#returning-a-view-versus-a-copy\n",
            "  data[str(n) + \"_SMA\"] = (data.Close / data.Close.rolling(50).mean())\n",
            "<ipython-input-40-17e569242934>:2: SettingWithCopyWarning: \n",
            "A value is trying to be set on a copy of a slice from a DataFrame.\n",
            "Try using .loc[row_indexer,col_indexer] = value instead\n",
            "\n",
            "See the caveats in the documentation: https://pandas.pydata.org/pandas-docs/stable/user_guide/indexing.html#returning-a-view-versus-a-copy\n",
            "  data[str(n) + \"_SMA\"] = (data.Close / data.Close.rolling(50).mean())\n",
            "<ipython-input-40-17e569242934>:2: SettingWithCopyWarning: \n",
            "A value is trying to be set on a copy of a slice from a DataFrame.\n",
            "Try using .loc[row_indexer,col_indexer] = value instead\n",
            "\n",
            "See the caveats in the documentation: https://pandas.pydata.org/pandas-docs/stable/user_guide/indexing.html#returning-a-view-versus-a-copy\n",
            "  data[str(n) + \"_SMA\"] = (data.Close / data.Close.rolling(50).mean())\n"
          ]
        }
      ]
    },
    {
      "cell_type": "code",
      "source": [
        "buy_call = best_xgb_classifier.predict_proba(data.tail(1).iloc[:,4:])[0][1] >= 0.85"
      ],
      "metadata": {
        "id": "leEndlROBY3A"
      },
      "execution_count": null,
      "outputs": []
    },
    {
      "cell_type": "code",
      "source": [
        "buy_put = best_xgb_classifier.predict_proba(data.tail(1).iloc[:,4:])[0][1] <= 0.15"
      ],
      "metadata": {
        "id": "hKfXTWbUZd7a"
      },
      "execution_count": null,
      "outputs": []
    },
    {
      "cell_type": "code",
      "source": [
        "print(\"Should I buy a call? :\", buy_call)\n",
        "print(\"Should I buy a put? :\", buy_put)"
      ],
      "metadata": {
        "colab": {
          "base_uri": "https://localhost:8080/"
        },
        "id": "Bdys9UqPZlzQ",
        "outputId": "f293284b-5b69-41c0-cf9f-f3a1583d8fc9"
      },
      "execution_count": null,
      "outputs": [
        {
          "output_type": "stream",
          "name": "stdout",
          "text": [
            "Should I buy a call? : False\n",
            "Should I buy a put? : False\n"
          ]
        }
      ]
    },
    {
      "cell_type": "code",
      "source": [
        "best_xgb_classifier.predict(data.tail(1).iloc[:,4:])"
      ],
      "metadata": {
        "colab": {
          "base_uri": "https://localhost:8080/"
        },
        "id": "2QBvlnDVQDF_",
        "outputId": "5d5d54fd-1b7d-49d6-a2b1-ede02afbffda"
      },
      "execution_count": null,
      "outputs": [
        {
          "output_type": "execute_result",
          "data": {
            "text/plain": [
              "array([1])"
            ]
          },
          "metadata": {},
          "execution_count": 72
        }
      ]
    },
    {
      "cell_type": "code",
      "source": [
        "data.tail(1)"
      ],
      "metadata": {
        "id": "pFZGEldMGj_y",
        "colab": {
          "base_uri": "https://localhost:8080/",
          "height": 213
        },
        "outputId": "c3ce1719-45b2-4323-a087-8f111f0b2483"
      },
      "execution_count": null,
      "outputs": [
        {
          "output_type": "execute_result",
          "data": {
            "text/plain": [
              "                                 Open        High         Low       Close  \\\n",
              "Date                                                                        \n",
              "2023-11-10 00:00:00-05:00  435.980011  440.929993  433.829987  440.609985   \n",
              "\n",
              "                              5_SMA    10_SMA    15_SMA    20_SMA    25_SMA  \\\n",
              "Date                                                                          \n",
              "2023-11-10 00:00:00-05:00  1.018922  1.018922  1.018922  1.018922  1.018922   \n",
              "\n",
              "                             30_SMA  ...     10_RSI     12_RSI     14_RSI  \\\n",
              "Date                                 ...                                    \n",
              "2023-11-10 00:00:00-05:00  1.018922  ...  90.721078  76.432829  69.056161   \n",
              "\n",
              "                              16_RSI     18_RSI     20_RSI     22_RSI  \\\n",
              "Date                                                                    \n",
              "2023-11-10 00:00:00-05:00  62.049614  53.353788  56.240566  52.756699   \n",
              "\n",
              "                              24_RSI     26_RSI     28_RSI  \n",
              "Date                                                        \n",
              "2023-11-10 00:00:00-05:00  55.083071  58.986932  60.241209  \n",
              "\n",
              "[1 rows x 36 columns]"
            ],
            "text/html": [
              "\n",
              "  <div id=\"df-b242fa08-634b-4847-8035-4b8079d52c50\" class=\"colab-df-container\">\n",
              "    <div>\n",
              "<style scoped>\n",
              "    .dataframe tbody tr th:only-of-type {\n",
              "        vertical-align: middle;\n",
              "    }\n",
              "\n",
              "    .dataframe tbody tr th {\n",
              "        vertical-align: top;\n",
              "    }\n",
              "\n",
              "    .dataframe thead th {\n",
              "        text-align: right;\n",
              "    }\n",
              "</style>\n",
              "<table border=\"1\" class=\"dataframe\">\n",
              "  <thead>\n",
              "    <tr style=\"text-align: right;\">\n",
              "      <th></th>\n",
              "      <th>Open</th>\n",
              "      <th>High</th>\n",
              "      <th>Low</th>\n",
              "      <th>Close</th>\n",
              "      <th>5_SMA</th>\n",
              "      <th>10_SMA</th>\n",
              "      <th>15_SMA</th>\n",
              "      <th>20_SMA</th>\n",
              "      <th>25_SMA</th>\n",
              "      <th>30_SMA</th>\n",
              "      <th>...</th>\n",
              "      <th>10_RSI</th>\n",
              "      <th>12_RSI</th>\n",
              "      <th>14_RSI</th>\n",
              "      <th>16_RSI</th>\n",
              "      <th>18_RSI</th>\n",
              "      <th>20_RSI</th>\n",
              "      <th>22_RSI</th>\n",
              "      <th>24_RSI</th>\n",
              "      <th>26_RSI</th>\n",
              "      <th>28_RSI</th>\n",
              "    </tr>\n",
              "    <tr>\n",
              "      <th>Date</th>\n",
              "      <th></th>\n",
              "      <th></th>\n",
              "      <th></th>\n",
              "      <th></th>\n",
              "      <th></th>\n",
              "      <th></th>\n",
              "      <th></th>\n",
              "      <th></th>\n",
              "      <th></th>\n",
              "      <th></th>\n",
              "      <th></th>\n",
              "      <th></th>\n",
              "      <th></th>\n",
              "      <th></th>\n",
              "      <th></th>\n",
              "      <th></th>\n",
              "      <th></th>\n",
              "      <th></th>\n",
              "      <th></th>\n",
              "      <th></th>\n",
              "      <th></th>\n",
              "    </tr>\n",
              "  </thead>\n",
              "  <tbody>\n",
              "    <tr>\n",
              "      <th>2023-11-10 00:00:00-05:00</th>\n",
              "      <td>435.980011</td>\n",
              "      <td>440.929993</td>\n",
              "      <td>433.829987</td>\n",
              "      <td>440.609985</td>\n",
              "      <td>1.018922</td>\n",
              "      <td>1.018922</td>\n",
              "      <td>1.018922</td>\n",
              "      <td>1.018922</td>\n",
              "      <td>1.018922</td>\n",
              "      <td>1.018922</td>\n",
              "      <td>...</td>\n",
              "      <td>90.721078</td>\n",
              "      <td>76.432829</td>\n",
              "      <td>69.056161</td>\n",
              "      <td>62.049614</td>\n",
              "      <td>53.353788</td>\n",
              "      <td>56.240566</td>\n",
              "      <td>52.756699</td>\n",
              "      <td>55.083071</td>\n",
              "      <td>58.986932</td>\n",
              "      <td>60.241209</td>\n",
              "    </tr>\n",
              "  </tbody>\n",
              "</table>\n",
              "<p>1 rows × 36 columns</p>\n",
              "</div>\n",
              "    <div class=\"colab-df-buttons\">\n",
              "\n",
              "  <div class=\"colab-df-container\">\n",
              "    <button class=\"colab-df-convert\" onclick=\"convertToInteractive('df-b242fa08-634b-4847-8035-4b8079d52c50')\"\n",
              "            title=\"Convert this dataframe to an interactive table.\"\n",
              "            style=\"display:none;\">\n",
              "\n",
              "  <svg xmlns=\"http://www.w3.org/2000/svg\" height=\"24px\" viewBox=\"0 -960 960 960\">\n",
              "    <path d=\"M120-120v-720h720v720H120Zm60-500h600v-160H180v160Zm220 220h160v-160H400v160Zm0 220h160v-160H400v160ZM180-400h160v-160H180v160Zm440 0h160v-160H620v160ZM180-180h160v-160H180v160Zm440 0h160v-160H620v160Z\"/>\n",
              "  </svg>\n",
              "    </button>\n",
              "\n",
              "  <style>\n",
              "    .colab-df-container {\n",
              "      display:flex;\n",
              "      gap: 12px;\n",
              "    }\n",
              "\n",
              "    .colab-df-convert {\n",
              "      background-color: #E8F0FE;\n",
              "      border: none;\n",
              "      border-radius: 50%;\n",
              "      cursor: pointer;\n",
              "      display: none;\n",
              "      fill: #1967D2;\n",
              "      height: 32px;\n",
              "      padding: 0 0 0 0;\n",
              "      width: 32px;\n",
              "    }\n",
              "\n",
              "    .colab-df-convert:hover {\n",
              "      background-color: #E2EBFA;\n",
              "      box-shadow: 0px 1px 2px rgba(60, 64, 67, 0.3), 0px 1px 3px 1px rgba(60, 64, 67, 0.15);\n",
              "      fill: #174EA6;\n",
              "    }\n",
              "\n",
              "    .colab-df-buttons div {\n",
              "      margin-bottom: 4px;\n",
              "    }\n",
              "\n",
              "    [theme=dark] .colab-df-convert {\n",
              "      background-color: #3B4455;\n",
              "      fill: #D2E3FC;\n",
              "    }\n",
              "\n",
              "    [theme=dark] .colab-df-convert:hover {\n",
              "      background-color: #434B5C;\n",
              "      box-shadow: 0px 1px 3px 1px rgba(0, 0, 0, 0.15);\n",
              "      filter: drop-shadow(0px 1px 2px rgba(0, 0, 0, 0.3));\n",
              "      fill: #FFFFFF;\n",
              "    }\n",
              "  </style>\n",
              "\n",
              "    <script>\n",
              "      const buttonEl =\n",
              "        document.querySelector('#df-b242fa08-634b-4847-8035-4b8079d52c50 button.colab-df-convert');\n",
              "      buttonEl.style.display =\n",
              "        google.colab.kernel.accessAllowed ? 'block' : 'none';\n",
              "\n",
              "      async function convertToInteractive(key) {\n",
              "        const element = document.querySelector('#df-b242fa08-634b-4847-8035-4b8079d52c50');\n",
              "        const dataTable =\n",
              "          await google.colab.kernel.invokeFunction('convertToInteractive',\n",
              "                                                    [key], {});\n",
              "        if (!dataTable) return;\n",
              "\n",
              "        const docLinkHtml = 'Like what you see? Visit the ' +\n",
              "          '<a target=\"_blank\" href=https://colab.research.google.com/notebooks/data_table.ipynb>data table notebook</a>'\n",
              "          + ' to learn more about interactive tables.';\n",
              "        element.innerHTML = '';\n",
              "        dataTable['output_type'] = 'display_data';\n",
              "        await google.colab.output.renderOutput(dataTable, element);\n",
              "        const docLink = document.createElement('div');\n",
              "        docLink.innerHTML = docLinkHtml;\n",
              "        element.appendChild(docLink);\n",
              "      }\n",
              "    </script>\n",
              "  </div>\n",
              "\n",
              "    </div>\n",
              "  </div>\n"
            ]
          },
          "metadata": {},
          "execution_count": 73
        }
      ]
    },
    {
      "cell_type": "code",
      "source": [],
      "metadata": {
        "id": "ycxDBdGGZuvr"
      },
      "execution_count": null,
      "outputs": []
    }
  ]
}